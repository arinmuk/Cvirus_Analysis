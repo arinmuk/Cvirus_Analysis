{
 "cells": [
  {
   "cell_type": "code",
   "execution_count": 39,
   "metadata": {},
   "outputs": [],
   "source": [
    "import pandas as pd\n",
    "import pymongo as mongo\n",
    "import json\n",
    "import numpy as np\n",
    "import pymssql\n",
    "import datetime as dt"
   ]
  },
  {
   "cell_type": "code",
   "execution_count": 40,
   "metadata": {},
   "outputs": [],
   "source": [
    "cloudMClnt=mongo.MongoClient(\"localhost:27017\")\n",
    "db=cloudMClnt['covid19']"
   ]
  },
  {
   "cell_type": "code",
   "execution_count": 41,
   "metadata": {},
   "outputs": [
    {
     "name": "stdout",
     "output_type": "stream",
     "text": [
      "2021-04-03 20:10:55.795212\n",
      "2021-04-03\n",
      "1 day, 0:00:00\n",
      "2021-04-03\n"
     ]
    }
   ],
   "source": [
    "today = dt.datetime.now()\n",
    "print(today)\n",
    "today1 = dt.date.today()\n",
    "print(today1)\n",
    "t2=dt.timedelta(days=1)\n",
    "print(t2)\n",
    "delta=today1\n",
    "print(delta)"
   ]
  },
  {
   "cell_type": "code",
   "execution_count": 42,
   "metadata": {},
   "outputs": [
    {
     "name": "stdout",
     "output_type": "stream",
     "text": [
      "04-02-2021\n"
     ]
    }
   ],
   "source": [
    "collog=db['log']\n",
    "delta = delta-t2\n",
    "d1=delta\n",
    "delta1 = d1.strftime(\"%m-%d-%Y\")\n",
    "print(delta1)\n",
    "#logdf=pd.DataFrame({\"last_pulldate\":delta1}, index=[0])\n",
    "#collog.update_one(logdf.to_dict('records'),True)"
   ]
  },
  {
   "cell_type": "code",
   "execution_count": 43,
   "metadata": {},
   "outputs": [
    {
     "name": "stdout",
     "output_type": "stream",
     "text": [
      "2021-04-02\n"
     ]
    }
   ],
   "source": [
    "lastdatedf = collog.find()\n",
    "for records in lastdatedf:\n",
    "    id = records['_id']\n",
    "    lastpulldate = records['last_pulldate']\n",
    "    print(lastpulldate)"
   ]
  },
  {
   "cell_type": "code",
   "execution_count": 47,
   "metadata": {},
   "outputs": [
    {
     "name": "stdout",
     "output_type": "stream",
     "text": [
      "2021-04-03 2021-04-02\n",
      "1\n"
     ]
    }
   ],
   "source": [
    "olddate=lastpulldate\n",
    "today1 = dt.date.today()\n",
    "olddate=dt.datetime.strptime(olddate, \"%Y-%m-%d\").date()\n",
    "#lastpulldate = dt.datetime.strptime(lastpulldate, \"%m-%d-%Y\").date()\n",
    "#t2=dt.timedelta(days=1)\n",
    "#newdate = lastpulldate+t2\n",
    "nodays =  (today1 -olddate).days\n",
    "print(today1,olddate)\n",
    "print(nodays)\n"
   ]
  },
  {
   "cell_type": "code",
   "execution_count": 48,
   "metadata": {},
   "outputs": [
    {
     "data": {
      "text/plain": [
       "<pymongo.results.UpdateResult at 0x22b8e4e4688>"
      ]
     },
     "execution_count": 48,
     "metadata": {},
     "output_type": "execute_result"
    }
   ],
   "source": [
    "collog.update_one({\"_id\":id},{\"$set\": {'last_pulldate':str(newdate)}})#,upsert:True)"
   ]
  },
  {
   "cell_type": "code",
   "execution_count": null,
   "metadata": {},
   "outputs": [],
   "source": []
  }
 ],
 "metadata": {
  "kernelspec": {
   "display_name": "Python 3.7.5 64-bit ('pythondata': conda)",
   "language": "python",
   "name": "python37564bitpythondatacondabc14fe4b020f47c3a20ac41c7cca2e6d"
  },
  "language_info": {
   "codemirror_mode": {
    "name": "ipython",
    "version": 3
   },
   "file_extension": ".py",
   "mimetype": "text/x-python",
   "name": "python",
   "nbconvert_exporter": "python",
   "pygments_lexer": "ipython3",
   "version": "3.7.9"
  }
 },
 "nbformat": 4,
 "nbformat_minor": 4
}
