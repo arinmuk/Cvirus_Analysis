{
 "cells": [
  {
   "cell_type": "code",
   "execution_count": null,
   "id": "e0415708",
   "metadata": {},
   "outputs": [],
   "source": []
  }
 ],
 "metadata": {
  "kernelspec": {
   "display_name": "Python 3.7.5 64-bit ('pythondata': conda)",
   "language": "python",
   "name": "python37564bitpythondatacondabc14fe4b020f47c3a20ac41c7cca2e6d"
  },
  "language_info": {
   "codemirror_mode": {
    "name": "ipython",
    "version": 3
   },
   "file_extension": ".py",
   "mimetype": "text/x-python",
   "name": "python",
   "nbconvert_exporter": "python",
   "pygments_lexer": "ipython3",
   "version": "3.7.11"
  }
 },
 "nbformat": 4,
 "nbformat_minor": 5
}
